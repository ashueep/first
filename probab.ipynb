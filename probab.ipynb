{
 "cells": [
  {
   "cell_type": "code",
   "execution_count": 1,
   "metadata": {},
   "outputs": [],
   "source": [
    "import matplotlib.pyplot as plt"
   ]
  },
  {
   "cell_type": "code",
   "execution_count": 2,
   "metadata": {},
   "outputs": [],
   "source": [
    "arr = [0]*20\n",
    "arr[0] = 1/39"
   ]
  },
  {
   "cell_type": "code",
   "execution_count": 6,
   "metadata": {},
   "outputs": [],
   "source": [
    "i = 1\n",
    "while i < len(arr):\n",
    "    arr[i] = ((41 - 2*i + 1)/(41 - 2*i)) * arr[i-1]\n",
    "    i += 1"
   ]
  },
  {
   "cell_type": "code",
   "execution_count": 7,
   "metadata": {},
   "outputs": [
    {
     "name": "stdout",
     "output_type": "stream",
     "text": [
      "0.02564102564102564\n",
      "0.026298487836949373\n",
      "0.027009257778488543\n",
      "0.027780950857873927\n",
      "0.028622797853567077\n",
      "0.02954611391335956\n",
      "0.03056494542761334\n",
      "0.03169698044345087\n",
      "0.03296485966118891\n",
      "0.034398114429066685\n",
      "0.036036119878069865\n",
      "0.03793275776638933\n",
      "0.040164096458529884\n",
      "0.04284170288909854\n",
      "0.04613721849595227\n",
      "0.050331511086493384\n",
      "0.055923901207214875\n",
      "0.0639130299511027\n",
      "0.07669563594132324\n",
      "0.10226084792176432\n"
     ]
    }
   ],
   "source": [
    "for i in arr:\n",
    "    print(i)"
   ]
  },
  {
   "cell_type": "code",
   "execution_count": 11,
   "metadata": {},
   "outputs": [],
   "source": [
    "index = [0] * 20\n",
    "j = 0\n",
    "while j < len(index):\n",
    "    index[j] = j + 1\n",
    "    j += 1"
   ]
  },
  {
   "cell_type": "code",
   "execution_count": 15,
   "metadata": {},
   "outputs": [
    {
     "name": "stdout",
     "output_type": "stream",
     "text": [
      "0.8467603554385223\n"
     ]
    }
   ],
   "source": [
    "s = 0\n",
    "for i in arr:\n",
    "    s+=i\n",
    "print(s)"
   ]
  },
  {
   "cell_type": "code",
   "execution_count": 14,
   "metadata": {},
   "outputs": [
    {
     "data": {
      "image/png": "[encoded data removed]",
      "text/plain": [
       "<Figure size 432x288 with 1 Axes>"
      ]
     },
     "metadata": {
      "needs_background": "light"
     },
     "output_type": "display_data"
    }
   ],
   "source": [
    "plt.plot(index,arr)\n",
    "plt.xlabel('index')\n",
    "plt.ylabel('probability')\n",
    "plt.show()"
   ]
  },
  {
   "cell_type": "code",
   "execution_count": null,
   "metadata": {},
   "outputs": [],
   "source": []
  }
 ],
 "metadata": {
  "kernelspec": {
   "display_name": "Python 3.8.2 32-bit",
   "language": "python",
   "name": "python38232bit788deb08a4b342b1ae72ac72cc9117b6"
  },
  "language_info": {
   "codemirror_mode": {
    "name": "ipython",
    "version": 3
   },
   "file_extension": ".py",
   "mimetype": "text/x-python",
   "name": "python",
   "nbconvert_exporter": "python",
   "pygments_lexer": "ipython3",
   "version": "3.8.2"
  }
 },
 "nbformat": 4,
 "nbformat_minor": 4
}
